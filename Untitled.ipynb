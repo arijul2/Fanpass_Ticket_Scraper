{
 "cells": [
  {
   "cell_type": "code",
   "execution_count": 9,
   "id": "4640d058",
   "metadata": {},
   "outputs": [
    {
     "name": "stdout",
     "output_type": "stream",
     "text": [
      "Accessing ticket page for Arsenal...\n",
      "Status code: 200\n",
      "Content length: 121707 characters\n",
      "Successfully accessed the website!\n",
      "Saved HTML to arsenal_page.html\n"
     ]
    }
   ],
   "source": [
    "import requests\n",
    "\n",
    "def access_website(team):\n",
    "    \"\"\"\n",
    "    Simply access the team's ticket page and print status\n",
    "    \"\"\"\n",
    "    print(f\"Accessing ticket page for {team}...\")\n",
    "    \n",
    "    # Format the URL\n",
    "    url = f\"https://fanpass.net/{team.lower()}-tickets\"\n",
    "    \n",
    "    # Headers to mimic a browser\n",
    "    headers = {\n",
    "        \"User-Agent\": \"Mozilla/5.0 (Windows NT 10.0; Win64; x64) AppleWebKit/537.36 (KHTML, like Gecko) Chrome/91.0.4472.124 Safari/537.36\"\n",
    "    }\n",
    "    \n",
    "    try:\n",
    "        # Make the request\n",
    "        response = requests.get(url, headers=headers)\n",
    "        \n",
    "        # Print info about the response\n",
    "        print(f\"Status code: {response.status_code}\")\n",
    "        print(f\"Content length: {len(response.text)} characters\")\n",
    "        \n",
    "        # Return the response if successful\n",
    "        if response.status_code == 200:\n",
    "            print(\"Successfully accessed the website!\")\n",
    "            return response\n",
    "        else:\n",
    "            print(f\"Failed to access: {url}\")\n",
    "            return None\n",
    "            \n",
    "    except Exception as e:\n",
    "        print(f\"Error: {e}\")\n",
    "        return None\n",
    "\n",
    "# Test it with Arsenal\n",
    "if __name__ == \"__main__\":\n",
    "    response = access_website(\"Arsenal\")\n",
    "    if response:\n",
    "        # Save the HTML to a file for inspection\n",
    "        with open(\"arsenal_page.html\", \"w\", encoding=\"utf-8\") as f:\n",
    "            f.write(response.text)\n",
    "        print(\"Saved HTML to arsenal_page.html\")"
   ]
  },
  {
   "cell_type": "code",
   "execution_count": null,
   "id": "4e825198",
   "metadata": {},
   "outputs": [],
   "source": []
  }
 ],
 "metadata": {
  "kernelspec": {
   "display_name": "Python 3 (ipykernel)",
   "language": "python",
   "name": "python3"
  },
  "language_info": {
   "codemirror_mode": {
    "name": "ipython",
    "version": 3
   },
   "file_extension": ".py",
   "mimetype": "text/x-python",
   "name": "python",
   "nbconvert_exporter": "python",
   "pygments_lexer": "ipython3",
   "version": "3.12.4"
  }
 },
 "nbformat": 4,
 "nbformat_minor": 5
}
